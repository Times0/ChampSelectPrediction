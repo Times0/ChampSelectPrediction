{
 "cells": [
  {
   "cell_type": "code",
   "execution_count": null,
   "metadata": {},
   "outputs": [],
   "source": [
    "import json\n",
    "import os\n",
    "\n",
    "import riotwatcher\n",
    "from dotenv import load_dotenv\n",
    "\n",
    "load_dotenv()\n",
    "\n",
    "API_KEY = os.getenv(\"RIOT_API_KEY\")\n",
    "REGION = \"EUW1\"\n",
    "\n",
    "lol_watcher = riotwatcher.LolWatcher(API_KEY)"
   ]
  },
  {
   "cell_type": "code",
   "execution_count": null,
   "metadata": {},
   "outputs": [],
   "source": [
    "from tqdm import tqdm\n",
    "# FILEPATH: /D:/Programmation/Python/Projets de ouf/ChampSelectPrediction/getmatches.ipynb\n",
    "m = lol_watcher.league.masters_by_queue(REGION, \"RANKED_SOLO_5x5\")\n",
    "gm = lol_watcher.league.grandmaster_by_queue(REGION, \"RANKED_SOLO_5x5\")\n",
    "c = lol_watcher.league.challenger_by_queue(REGION, \"RANKED_SOLO_5x5\")\n",
    "players_dict: dict = json.load(open(\"players.json\", \"r\"))\n",
    "\n",
    "with tqdm(total=len(m[\"entries\"] + gm[\"entries\"] + c[\"entries\"])) as pbar:\n",
    "    for player in m[\"entries\"] + gm[\"entries\"] + c[\"entries\"]:\n",
    "        if not player[\"summonerName\"]:\n",
    "            print(\"No summoner name\")\n",
    "            continue\n",
    "        if player[\"summonerName\"] in players_dict:\n",
    "            print(\"Already in\")\n",
    "            continue\n",
    "        summoner = lol_watcher.summoner.by_name(REGION, player[\"summonerName\"])\n",
    "        players_dict[player[\"summonerName\"]] = summoner[\"puuid\"]\n",
    "        json.dump(players_dict, open(\"players.json\", \"w\"))\n",
    "        pbar.update(1)\n"
   ]
  },
  {
   "cell_type": "markdown",
   "metadata": {},
   "source": [
    "## Find the last 5 games for each master grandmaster and challenger player"
   ]
  },
  {
   "cell_type": "code",
   "execution_count": null,
   "metadata": {},
   "outputs": [],
   "source": [
    "from tqdm import tqdm\n",
    "\n",
    "players_dict = json.load(open(\"players.json\", \"r\"))\n",
    "games_dict = json.load(open(\"games_ids.json\", \"r\"))\n",
    "\n",
    "with tqdm(total=len(players_dict)) as pbar:\n",
    "    for player_name, player_puid in players_dict.items():\n",
    "        if player_name in games_dict:\n",
    "            print(\"Already in\")\n",
    "            pbar.update(1)\n",
    "            continue\n",
    "\n",
    "        matches = list(\n",
    "            lol_watcher.match.matchlist_by_puuid(REGION, player_puid, count=5)\n",
    "        )\n",
    "        if not matches:\n",
    "            print(\"No matches\")\n",
    "            pbar.update(1)\n",
    "            continue\n",
    "        games_dict[player_name] = matches\n",
    "        json.dump(games_dict, open(\"games_ids.json\", \"w\"))\n",
    "        pbar.update(1)\n",
    "\n",
    "print(\"Done\")"
   ]
  },
  {
   "cell_type": "code",
   "execution_count": 26,
   "metadata": {},
   "outputs": [],
   "source": [
    "g=lol_watcher.match.by_id(\"EUW1\", \"EUW1_6807392992\")"
   ]
  },
  {
   "cell_type": "code",
   "execution_count": 30,
   "metadata": {},
   "outputs": [
    {
     "data": {
      "text/plain": [
       "100"
      ]
     },
     "execution_count": 30,
     "metadata": {},
     "output_type": "execute_result"
    }
   ],
   "source": [
    "g[\"info\"][\"participants\"][0][\"teamId\"]\n"
   ]
  },
  {
   "cell_type": "markdown",
   "metadata": {},
   "source": [
    "## Extract champions used in each match and the result of the match"
   ]
  },
  {
   "cell_type": "code",
   "execution_count": 31,
   "metadata": {},
   "outputs": [
    {
     "name": "stderr",
     "output_type": "stream",
     "text": [
      "  0%|          | 0/1885 [00:00<?, ?it/s]"
     ]
    },
    {
     "name": "stderr",
     "output_type": "stream",
     "text": [
      "  5%|▌         | 100/1885 [00:13<03:17,  9.06it/s]"
     ]
    }
   ],
   "source": [
    "import pandas as pd\n",
    "from tqdm import tqdm\n",
    "games_players_dict = json.load(open(\"games_ids.json\", \"r\"))\n",
    "games = pd.read_csv(\"soloq_games_data.csv\")\n",
    "games.set_index(\"gameID\")\n",
    "\n",
    "with tqdm(total=len(games_players_dict)) as pbar:\n",
    "    for player_name, games_ids in games_players_dict.items():\n",
    "        for game_id in games_ids:\n",
    "            if game_id in games[\"gameID\"]:\n",
    "                pbar.update(1)\n",
    "                continue\n",
    "            game_data = lol_watcher.match.by_id(\"EUW1\", game_id)[\"info\"]\n",
    "            champion_names = [game_data[\"participants\"]\n",
    "                              [i][\"championName\"] for i in range(10)]\n",
    "            result = \"Red\" if game_data[\"participants\"][0][\"teamId\"] == 100 else \"Blue\"\n",
    "            games.loc[game_id] = [\n",
    "                game_id, game_data[\"gameVersion\"], \"Red\", *champion_names]\n",
    "\n",
    "            # save the data\n",
    "            games.to_csv(\"soloq_games_data.csv\", index=False)\n",
    "            pbar.update(1)"
   ]
  },
  {
   "cell_type": "code",
   "execution_count": 21,
   "metadata": {},
   "outputs": [],
   "source": [
    "import pandas as pd\n",
    "\n",
    "df = pd.DataFrame({\n",
    "    \"gameid\": [0, 1, 2],\n",
    "    \"patch\": [1, 2, 3]\n",
    "})\n",
    "\n",
    "df.set_index(\"gameid\")\n",
    "\n",
    "df.loc[3] = [3,4]\n",
    "\n",
    "df.to_csv(\"test.csv\", index=False)"
   ]
  }
 ],
 "metadata": {
  "kernelspec": {
   "display_name": "Python 3",
   "language": "python",
   "name": "python3"
  },
  "language_info": {
   "codemirror_mode": {
    "name": "ipython",
    "version": 3
   },
   "file_extension": ".py",
   "mimetype": "text/x-python",
   "name": "python",
   "nbconvert_exporter": "python",
   "pygments_lexer": "ipython3",
   "version": "3.11.5"
  }
 },
 "nbformat": 4,
 "nbformat_minor": 2
}
